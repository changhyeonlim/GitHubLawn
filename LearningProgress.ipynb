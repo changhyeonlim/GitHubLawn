{
 "cells": [
  {
   "attachments": {},
   "cell_type": "markdown",
   "metadata": {},
   "source": [
    "## Learning Progress (Path to SWE)"
   ]
  },
  {
   "attachments": {},
   "cell_type": "markdown",
   "metadata": {},
   "source": [
    "### April 29, 2023\n",
    "- DeepLearning.AI: ChatGPT Prompt Engineering\n",
    "- Coursera: Introduction to Database\n",
    "    - Week 1 - 3"
   ]
  },
  {
   "attachments": {},
   "cell_type": "markdown",
   "metadata": {},
   "source": [
    "### April 30, 2023\n",
    "- Coursera: Introduction to Database\n",
    "    - Week 4 -5 \n",
    "- Coursera: Version Control \n",
    "    - Week 1 - 3"
   ]
  },
  {
   "attachments": {},
   "cell_type": "markdown",
   "metadata": {},
   "source": [
    "### May 1, 2023\n",
    "- Coursera: Version Control\n",
    "    - Week 3 - 4\n",
    "- Cousera: Database Structures and Management with MySQL\n",
    "    - Week 1"
   ]
  },
  {
   "attachments": {},
   "cell_type": "markdown",
   "metadata": {},
   "source": [
    "### May 2, 2023\n",
    "- Coursera: Database Structures and Management with MySQL\n",
    "    - Week 1 - 2 "
   ]
  },
  {
   "attachments": {},
   "cell_type": "markdown",
   "metadata": {},
   "source": [
    "### May 3, 2023\n",
    "- Coursera: Database Structures and Management with MySQL\n",
    "    - Week 2 - 4\n",
    "- Coursera: Advanced MySQL Topics\n",
    "    - Week 1"
   ]
  },
  {
   "attachments": {},
   "cell_type": "markdown",
   "metadata": {},
   "source": [
    "### May 4, 2023\n",
    "- Cousera: Advanced MySQL Topics\n",
    "    - Week 1 - 2"
   ]
  },
  {
   "attachments": {},
   "cell_type": "markdown",
   "metadata": {},
   "source": [
    "### May 5, 2023\n",
    "- Coursera: Advanced MySQL Topics\n",
    "    - Week 2 - 4\n",
    "- Coursera: Programming in Python\n",
    "    - Week 1"
   ]
  },
  {
   "attachments": {},
   "cell_type": "markdown",
   "metadata": {},
   "source": [
    "### May 6, 2023\n",
    "- Cousera: Programming in Python\n",
    "    - Week 1 - 3\n"
   ]
  },
  {
   "attachments": {},
   "cell_type": "markdown",
   "metadata": {},
   "source": [
    "### May 7, 2023\n",
    "- Cousera: Programming in Python\n",
    "    - Week 3 - 5\n"
   ]
  },
  {
   "attachments": {},
   "cell_type": "markdown",
   "metadata": {},
   "source": [
    "### May 8, 2023\n",
    "- Cousera: Database Clients\n",
    "    - Week 1"
   ]
  },
  {
   "attachments": {},
   "cell_type": "markdown",
   "metadata": {},
   "source": [
    "### May 9, 2023\n",
    "- Coursera: Database Clients\n",
    "    - Week 2"
   ]
  },
  {
   "attachments": {},
   "cell_type": "markdown",
   "metadata": {},
   "source": [
    "### May 10, 2023\n",
    "- Cousera: Database Clients\n",
    "    - Week 3\n",
    "- Microsoft Azure Virtual Training Day: Data fundamentals"
   ]
  },
  {
   "attachments": {},
   "cell_type": "markdown",
   "metadata": {},
   "source": [
    "### May 11, 2023\n",
    "- Microsoft Azure Virtual Traning Day: Data fundamentals\n",
    "- Microsoft Azure Data Fundamentals: Explore core data concepts\n",
    "- Microsoft Azure Data Fundamentals: Explore relational data in Azure\n",
    "- Cousera: Database Clients\n",
    "    - Week 3"
   ]
  },
  {
   "attachments": {},
   "cell_type": "markdown",
   "metadata": {},
   "source": [
    "### May 12, 2023\n",
    "- Cousera: Database Clients\n",
    "    - Week 3"
   ]
  },
  {
   "attachments": {},
   "cell_type": "markdown",
   "metadata": {},
   "source": [
    "### May 13, 2023\n",
    "- Cousera: Database Clients\n",
    "    - Week 3 - 4\n",
    "- Cousera: Advanced Data Modeling\n",
    "    - Week 1"
   ]
  },
  {
   "attachments": {},
   "cell_type": "markdown",
   "metadata": {},
   "source": [
    "### May 14, 2023\n",
    "- Cousera: Advanced Data Modeling\n",
    "    - Week 1\n",
    "- DataTalksClub: MLOps Zoomcamp\n",
    "    - Module 1: 1 - 5"
   ]
  },
  {
   "attachments": {},
   "cell_type": "markdown",
   "metadata": {},
   "source": [
    "### May 15, 2023\n",
    "- DataTalksClub: MLOps Zoomcamp\n",
    "    - Module 1: setting up environment\n",
    "- Coursera: Advanced Data Modeling\n",
    "    - Week 2"
   ]
  },
  {
   "attachments": {},
   "cell_type": "markdown",
   "metadata": {},
   "source": [
    "### May 16, 2023\n",
    "- Azure Data Fundamentals Practice questions Part 1"
   ]
  },
  {
   "attachments": {},
   "cell_type": "markdown",
   "metadata": {},
   "source": [
    "### May 17, 2023\n",
    "- Azure Data Fundamental Practice Questions Part 2\n",
    "- Coursera: Advanced Data Modeling\n",
    "    - Week 3"
   ]
  },
  {
   "attachments": {},
   "cell_type": "markdown",
   "metadata": {},
   "source": [
    "### May 18, 2023\n",
    "- Azure Data Fundamental Practice Questions Part 3"
   ]
  },
  {
   "attachments": {},
   "cell_type": "markdown",
   "metadata": {},
   "source": [
    "### May 19, 2023\n",
    "- Cousera: Advanced Data Modeling \n",
    "    - Week 4\n",
    "- Azure Data Fundamental Practice Question Part 4\n"
   ]
  },
  {
   "attachments": {},
   "cell_type": "markdown",
   "metadata": {},
   "source": [
    "### May 20, 2023\n",
    "- Azure Data Fundamental Practice Question Part 5"
   ]
  },
  {
   "attachments": {},
   "cell_type": "markdown",
   "metadata": {},
   "source": [
    "### May 21, 2023\n",
    "\n",
    "- MLOpsZoomCamp HW 1\n"
   ]
  },
  {
   "attachments": {},
   "cell_type": "markdown",
   "metadata": {},
   "source": [
    "### May 22, 2023\n",
    "-  Azure Data Fundamentals Challenge\n",
    "    - Understand the evolving world of data\n",
    "    - Explore Azure Storage for non-relational data\n",
    "- Practice Question Review"
   ]
  },
  {
   "attachments": {},
   "cell_type": "markdown",
   "metadata": {},
   "source": [
    "### May 23, 2023\n",
    "- MLOpsZoomcamp Week 2\n",
    "    - Module 2.1 - 2.2\n",
    "- Azure Data Fundamentals Review"
   ]
  },
  {
   "attachments": {},
   "cell_type": "markdown",
   "metadata": {},
   "source": [
    "### May 24, 2023\n",
    "- Azure Data Fundamentals Challenge\n",
    "    - Explore fundamentals of Azure Cosmos DB\n",
    "    - Explore fundamentals of real-time analytics\n",
    "- MLOpsZoomcamp Week 2\n",
    "    - Module 2.3\n"
   ]
  },
  {
   "attachments": {},
   "cell_type": "markdown",
   "metadata": {},
   "source": [
    "### May 25, 2023\n",
    "- Azure Data Fundamentals Challenge\n",
    "    - Explore fundamentals of large-scale data warehousing\n",
    "    - Explore fundamentals of data visualizations\n",
    "    "
   ]
  },
  {
   "attachments": {},
   "cell_type": "markdown",
   "metadata": {},
   "source": [
    "### May 26, 2023\n",
    "- Coursera: Database Engineer Capstone\n",
    "    - Week 1\n",
    "- Azure Data Fundamentals Question review"
   ]
  },
  {
   "attachments": {},
   "cell_type": "markdown",
   "metadata": {},
   "source": [
    "### May 27, 2023\n",
    "- Coursera: Database Engineer Capstone\n",
    "    - Week 2\n"
   ]
  },
  {
   "attachments": {},
   "cell_type": "markdown",
   "metadata": {},
   "source": [
    "### May 28, 2023\n",
    "- Microsoft Build: Azure AI Challenge\n",
    "    - Get started with AI on Azure\n",
    "    - Introduction to Azure OpenAI Service\n",
    "    - Use Automated Machine Learning in Azure Machine Learning"
   ]
  },
  {
   "attachments": {},
   "cell_type": "markdown",
   "metadata": {},
   "source": [
    "### May 29, 2023\n",
    "- Azure Data Fundamentals Question review"
   ]
  },
  {
   "attachments": {},
   "cell_type": "markdown",
   "metadata": {},
   "source": [
    "### May 30, 2023\n",
    "- Azure Data Fundamental Questions review 10 - 20"
   ]
  },
  {
   "attachments": {},
   "cell_type": "markdown",
   "metadata": {},
   "source": [
    "### May 31, 2023\n",
    "- - MLOpsZoomcamp Week 2\n",
    "    - Module 2.4 -5\n",
    "    - Homework 2"
   ]
  },
  {
   "attachments": {},
   "cell_type": "markdown",
   "metadata": {},
   "source": [
    "###  June 1, 2023\n",
    "- Coursera: Database Clients\n",
    "    - Peer-reviewed project"
   ]
  },
  {
   "attachments": {},
   "cell_type": "markdown",
   "metadata": {},
   "source": [
    "### June 2, 2023\n",
    "- Azure Data Fundamental Questions review 20 - 30"
   ]
  },
  {
   "attachments": {},
   "cell_type": "markdown",
   "metadata": {},
   "source": [
    "### June 3, 2023\n",
    "- Coursera: Database Clients\n",
    "    - Peer-reviewed project review"
   ]
  },
  {
   "attachments": {},
   "cell_type": "markdown",
   "metadata": {},
   "source": [
    "### June 4, 2023\n",
    "- Cousera: Advanced Data Modeling\n",
    "    - Week 4 Review"
   ]
  },
  {
   "attachments": {},
   "cell_type": "markdown",
   "metadata": {},
   "source": [
    "### June 5, 2023\n",
    "- MLOpsZoomcamp\n",
    "    - Week 2 HW on Weights and Biases"
   ]
  },
  {
   "attachments": {},
   "cell_type": "markdown",
   "metadata": {},
   "source": [
    "### June 6, 2023\n",
    "- Azure AI 900 Challenge\n",
    "    - Create a regression model, classification model, and clustering model with Azure Machine Learning designer\n",
    "- Azure Data fundamental questions review 30 - 50"
   ]
  },
  {
   "attachments": {},
   "cell_type": "markdown",
   "metadata": {},
   "source": [
    "### June 7, 2023\n",
    "- Cousera: Advanced Data Modeling\n",
    "    - Week 4 Peer-graded project and Tableau review"
   ]
  },
  {
   "attachments": {},
   "cell_type": "markdown",
   "metadata": {},
   "source": [
    "### June 8, 2023\n",
    "- Cousera: Database Engineer Capstone\n",
    "    - Week 1 - 2"
   ]
  },
  {
   "attachments": {},
   "cell_type": "markdown",
   "metadata": {},
   "source": [
    "### June 9, 2023\n",
    "- Cousera: Database Engineer Capstone\n",
    "    - Week 3 - 4"
   ]
  },
  {
   "attachments": {},
   "cell_type": "markdown",
   "metadata": {},
   "source": [
    "### June 10, 2023\n",
    "- Azure AI 900 Challenge\n",
    "    - Analyze images with the computer vision service\n",
    "    - build a bot with the language service\n",
    "    - introduction to anomaly detector\n",
    "    - Analyze receipts with the Form Recognizer service\n",
    "- Azure Data fundamental questions review 40 - 60\n"
   ]
  },
  {
   "attachments": {},
   "cell_type": "markdown",
   "metadata": {},
   "source": [
    "### June 11, 2023\n",
    "- MLOps Zoomcamp\n",
    "    - Module 3.1 - 3.6\n",
    "    - Homework 3"
   ]
  },
  {
   "attachments": {},
   "cell_type": "markdown",
   "metadata": {},
   "source": [
    "### June 12, 2023\n",
    "- Azure Data fundamental questions review 50 - 70"
   ]
  },
  {
   "attachments": {},
   "cell_type": "markdown",
   "metadata": {},
   "source": [
    "### June 13, 2023\n",
    "- MLOpsZoomcamp\n",
    "    - Module 4.1 - 4.3"
   ]
  },
  {
   "attachments": {},
   "cell_type": "markdown",
   "metadata": {},
   "source": [
    "### June 14, 2023\n",
    "- MLOpsZoomcamp\n",
    "    - Module 4.5\n",
    "- Azure Data fundamental questions review video\n"
   ]
  },
  {
   "attachments": {},
   "cell_type": "markdown",
   "metadata": {},
   "source": [
    "### June 15, 2023\n",
    "- Azure Data fundamental questions review 70 - 90"
   ]
  },
  {
   "attachments": {},
   "cell_type": "markdown",
   "metadata": {},
   "source": [
    "### June 16, 2023\n",
    "- Azure Data fundamental questions review video"
   ]
  },
  {
   "attachments": {},
   "cell_type": "markdown",
   "metadata": {},
   "source": [
    "### June 17, 2023\n",
    "- MLOpsZoomCamp\n",
    "    - Module 4.6"
   ]
  },
  {
   "attachments": {},
   "cell_type": "markdown",
   "metadata": {},
   "source": [
    "### June 18, 2023\n",
    "- MLOpsZooomCamp\n",
    "    - Homework 4"
   ]
  },
  {
   "attachments": {},
   "cell_type": "markdown",
   "metadata": {},
   "source": [
    "### June 19, 2023\n",
    "- Azure AI 900 Challenge"
   ]
  },
  {
   "attachments": {},
   "cell_type": "markdown",
   "metadata": {},
   "source": [
    "### June 20, 2023\n",
    "- Azure AI 900 Challenge\n",
    "    - Finish challenge modules\n",
    "- Azure Data fundamental questions review video\n",
    "- MLOpsZoomCamp\n",
    "    - Module 4 review"
   ]
  },
  {
   "attachments": {},
   "cell_type": "markdown",
   "metadata": {},
   "source": [
    "### June 21, 2023\n",
    "- Azure Data fundamental questions review video"
   ]
  },
  {
   "attachments": {},
   "cell_type": "markdown",
   "metadata": {},
   "source": [
    "### June 22, 2023\n",
    "- Azure Data fundamental questions review "
   ]
  },
  {
   "attachments": {},
   "cell_type": "markdown",
   "metadata": {},
   "source": [
    "### June 23, 2023\n",
    "- Azure Data fundamental Questions review / video\n"
   ]
  },
  {
   "attachments": {},
   "cell_type": "markdown",
   "metadata": {},
   "source": [
    "### June 26, 2023\n",
    "- MLOPsZoomCamp\n",
    "    - Docker and Deployment review"
   ]
  },
  {
   "attachments": {},
   "cell_type": "markdown",
   "metadata": {},
   "source": [
    "### June 27, 2023\n",
    "- Coursera: Coding Interview Preparation\n",
    "     - Week 1 - 2"
   ]
  },
  {
   "attachments": {},
   "cell_type": "markdown",
   "metadata": {},
   "source": [
    "### June 28, 2023\n",
    "- Cousera: Coding Interview Preparation\n",
    "    - Week 2 - 3"
   ]
  },
  {
   "attachments": {},
   "cell_type": "markdown",
   "metadata": {},
   "source": [
    "### June 29, 2023\n",
    "- Coursera: Coding Interview Preparation\n",
    "    - Week 3 - 4"
   ]
  },
  {
   "attachments": {},
   "cell_type": "markdown",
   "metadata": {},
   "source": [
    "### June 30, 2023\n",
    "- Azure Data fundamental questions review video\n",
    "- MLOpsZoomCamp Module 5.1"
   ]
  },
  {
   "attachments": {},
   "cell_type": "markdown",
   "metadata": {},
   "source": [
    "### July 1, 2023\n",
    "- MLOpsZoomCamp Module 5.2\n",
    "- Azure Data fundamental questions review video "
   ]
  },
  {
   "attachments": {},
   "cell_type": "markdown",
   "metadata": {},
   "source": [
    "### July 2, 2023\n",
    "- MLOpsZoomCAmp Module 5.3"
   ]
  },
  {
   "attachments": {},
   "cell_type": "markdown",
   "metadata": {},
   "source": [
    "### July 3, 2023\n",
    "- Azure Data fundamental questions review video "
   ]
  },
  {
   "attachments": {},
   "cell_type": "markdown",
   "metadata": {},
   "source": [
    "### July 4, 2023\n",
    "- Azure Data fundamental questions review video\n",
    "- DP 900 exam registration"
   ]
  },
  {
   "attachments": {},
   "cell_type": "markdown",
   "metadata": {},
   "source": [
    "### July 5, 2023\n",
    "- MLOpsZoomCamp Module 5.4"
   ]
  },
  {
   "attachments": {},
   "cell_type": "markdown",
   "metadata": {},
   "source": [
    "### July 6, 2023\n",
    "- MLOpsZoomCamp Module 5.5 - 5.8\n",
    "- MLOpsZoomCamp HW 5"
   ]
  },
  {
   "attachments": {},
   "cell_type": "markdown",
   "metadata": {},
   "source": [
    "### July 7, 2023\n",
    "- Azure Data fundamental questions review"
   ]
  },
  {
   "cell_type": "markdown",
   "metadata": {},
   "source": [
    "### July 8, 2023\n",
    "- Cousera: Database Engineer Capstone\n",
    "    - Week 4: completion of peer-graded assignment\n",
    "\n",
    "- Completion of Meta Database Engineer Professional Certificate"
   ]
  },
  {
   "cell_type": "markdown",
   "metadata": {},
   "source": [
    "### July 9, 2023\n",
    "- MLOpsZoomCamp Module 6.1"
   ]
  },
  {
   "cell_type": "markdown",
   "metadata": {},
   "source": [
    "### July 10, 2023\n",
    "- MLOpsZoomCamp Module 6.2\n",
    "- Data engineering networking"
   ]
  },
  {
   "cell_type": "markdown",
   "metadata": {},
   "source": [
    "### July 12, 2023\n",
    "- Azure Data fundamental questions review"
   ]
  },
  {
   "cell_type": "markdown",
   "metadata": {},
   "source": [
    "### July 13, 2023\n",
    "- Azure Data fundamental questions review\n",
    "- MLOpsZoomCamp Module 6.3\n"
   ]
  },
  {
   "cell_type": "markdown",
   "metadata": {},
   "source": [
    "### July 14, 2023\n",
    "- Azure Data fundamental questions review\n",
    "- MLOpsZoomCamp Module 6.4\n"
   ]
  },
  {
   "cell_type": "markdown",
   "metadata": {},
   "source": [
    "### July 15, 2023\n",
    "- MLOpsZoomCamp HW 6\n",
    "- Azure Data fundamental questions review 1 - 100"
   ]
  },
  {
   "cell_type": "markdown",
   "metadata": {},
   "source": [
    "### July 16, 2023\n",
    "- MLOpsZoomCamp HW 6\n",
    "- Azure Data fundamental questions review\n",
    "- CV"
   ]
  },
  {
   "cell_type": "markdown",
   "metadata": {},
   "source": [
    "### July 17, 2023\n",
    "- Microsoft Azure Data Fundamentals practice assessment"
   ]
  },
  {
   "cell_type": "markdown",
   "metadata": {},
   "source": [
    "### July 18, 2023\n",
    "- CV documentation\n",
    "- Microsoft Azure Data Fundamentals practice assessment\n",
    "- Data Fundamentals practice questions in pupweb"
   ]
  },
  {
   "cell_type": "markdown",
   "metadata": {},
   "source": [
    "### July 20, 2023\n",
    "- CV Documentation\n",
    "- Microsoft Azure Data Fundamental Certification Exam"
   ]
  },
  {
   "cell_type": "markdown",
   "metadata": {},
   "source": [
    "### July 21, 2023\n",
    "- CV Documentation\n",
    "- Microsoft Azure AI 900 exam registration"
   ]
  },
  {
   "cell_type": "markdown",
   "metadata": {},
   "source": [
    "### July 22, 2023\n",
    "- AI 900 Questions 1 - 20\n",
    "- MLOpsZoomCamp Final Project review"
   ]
  },
  {
   "cell_type": "markdown",
   "metadata": {},
   "source": [
    "### July 23, 2023\n",
    "- AI 900 Questions 21 - 40\n",
    "- CV Documentation"
   ]
  },
  {
   "cell_type": "markdown",
   "metadata": {},
   "source": [
    "### July 24, 2023\n",
    "- AI 900 Questions 41 - 60\n",
    "- Documentation preparation"
   ]
  },
  {
   "cell_type": "markdown",
   "metadata": {},
   "source": [
    "### July 26, 2023\n",
    "- AI 900 Questions 61 - 80\n",
    "- Documentation preparation\n",
    "- MLOpsZoomCamp Final Project review"
   ]
  },
  {
   "cell_type": "markdown",
   "metadata": {},
   "source": [
    "### July 27, 2023\n",
    "- Cousera: Microsoft Azure for Data Engineering\n",
    "    - Week 1 - 3\n",
    "- AI 900 Questions review"
   ]
  },
  {
   "cell_type": "markdown",
   "metadata": {},
   "source": [
    "### July 28, 2023\n",
    "- AI 900 Questions review"
   ]
  },
  {
   "cell_type": "markdown",
   "metadata": {},
   "source": [
    "### July 29, 2023\n",
    "- Cousera: Data Storage in Microsoft Azure\n",
    "    - Week 1 - 3"
   ]
  },
  {
   "cell_type": "markdown",
   "metadata": {},
   "source": [
    "### July 30, 2023\n",
    "- Cousera: Data Storage in Microsoft Azure\n",
    "    - Week 4 - 5"
   ]
  },
  {
   "cell_type": "markdown",
   "metadata": {},
   "source": [
    "### July 31, 2023\n",
    "- Coursera: Data Integration with Microsoft Azure Data Factory\n",
    "    - Week 1"
   ]
  },
  {
   "cell_type": "markdown",
   "metadata": {},
   "source": [
    "August 1, 2023\n",
    "- Coursera: Data Integration with Microsoft Azure Data Factory\n",
    "    - Week 2"
   ]
  },
  {
   "cell_type": "markdown",
   "metadata": {},
   "source": [
    "### August 2 - 5, 2023\n",
    "- FIRE Symposium networking"
   ]
  },
  {
   "cell_type": "markdown",
   "metadata": {},
   "source": [
    "### Auguts 6, 2023\n",
    "- Coursera: Data Integration with Microsoft Azure Data Factory\n",
    "    - Week 3\n"
   ]
  },
  {
   "cell_type": "markdown",
   "metadata": {},
   "source": [
    "### August 9, 2023\n",
    "- Data Day networking \n",
    "- AI 900 concepts review"
   ]
  },
  {
   "cell_type": "markdown",
   "metadata": {},
   "source": [
    "### August 10, 2023\n",
    "- AI 900 practice questions "
   ]
  },
  {
   "cell_type": "markdown",
   "metadata": {},
   "source": []
  }
 ],
 "metadata": {
  "kernelspec": {
   "display_name": "Python 3.8.5 32-bit",
   "language": "python",
   "name": "python3"
  },
  "language_info": {
   "name": "python",
   "version": "3.10.11"
  },
  "orig_nbformat": 4,
  "vscode": {
   "interpreter": {
    "hash": "de8b87ba8f177fe4a436d1f53122835ba7d07d5ea65e6cba5be73644e558f70c"
   }
  }
 },
 "nbformat": 4,
 "nbformat_minor": 2
}
