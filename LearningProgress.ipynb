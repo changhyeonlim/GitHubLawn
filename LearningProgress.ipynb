{
 "cells": [
  {
   "cell_type": "markdown",
   "metadata": {},
   "source": [
    "## Learning Progress (Path to SWE)"
   ]
  },
  {
   "cell_type": "markdown",
   "metadata": {},
   "source": [
    "### April 29, 2023\n",
    "- Coursera: Introduction to Database\n",
    "    - Week 1 - 3"
   ]
  },
  {
   "cell_type": "markdown",
   "metadata": {},
   "source": [
    "### April 30, 2023\n",
    "- Coursera: Introduction to Database\n",
    "    - Week 4 -5 \n",
    "- Coursera: Version Control \n",
    "    - Week 1 - 3"
   ]
  },
  {
   "cell_type": "markdown",
   "metadata": {},
   "source": []
  }
 ],
 "metadata": {
  "kernelspec": {
   "display_name": "Python 3.8.5 32-bit",
   "language": "python",
   "name": "python3"
  },
  "language_info": {
   "name": "python",
   "version": "3.8.5"
  },
  "orig_nbformat": 4,
  "vscode": {
   "interpreter": {
    "hash": "de8b87ba8f177fe4a436d1f53122835ba7d07d5ea65e6cba5be73644e558f70c"
   }
  }
 },
 "nbformat": 4,
 "nbformat_minor": 2
}
