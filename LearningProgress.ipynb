{
 "cells": [
  {
   "attachments": {},
   "cell_type": "markdown",
   "metadata": {},
   "source": [
    "## Learning Progress (Path to SWE)"
   ]
  },
  {
   "attachments": {},
   "cell_type": "markdown",
   "metadata": {},
   "source": [
    "### April 29, 2023\n",
    "- DeepLearning.AI: ChatGPT Prompt Engineering\n",
    "- Coursera: Introduction to Database\n",
    "    - Week 1 - 3"
   ]
  },
  {
   "attachments": {},
   "cell_type": "markdown",
   "metadata": {},
   "source": [
    "### April 30, 2023\n",
    "- Coursera: Introduction to Database\n",
    "    - Week 4 -5 \n",
    "- Coursera: Version Control \n",
    "    - Week 1 - 3"
   ]
  },
  {
   "attachments": {},
   "cell_type": "markdown",
   "metadata": {},
   "source": [
    "### May 1, 2023\n",
    "- Coursera: Version Control\n",
    "    - Week 3 - 4\n",
    "- Cousera: Database Structures and Management with MySQL\n",
    "    - Week 1"
   ]
  },
  {
   "attachments": {},
   "cell_type": "markdown",
   "metadata": {},
   "source": [
    "### May 2, 2023\n",
    "- Coursera: Database Structures and Management with MySQL\n",
    "    - Week 1 - 2 "
   ]
  },
  {
   "attachments": {},
   "cell_type": "markdown",
   "metadata": {},
   "source": [
    "### May 3, 2023\n",
    "- Coursera: Database Structures and Management with MySQL\n",
    "    - Week 2 - 4\n",
    "- Coursera: Advanced MySQL Topics\n",
    "    - Week 1"
   ]
  },
  {
   "attachments": {},
   "cell_type": "markdown",
   "metadata": {},
   "source": [
    "### May 4, 2023\n",
    "- Cousera: Advanced MySQL Topics\n",
    "    - Week 1 - 2"
   ]
  },
  {
   "attachments": {},
   "cell_type": "markdown",
   "metadata": {},
   "source": [
    "### May 5, 2023\n",
    "- Coursera: Advanced MySQL Topics\n",
    "    - Week 2 - 4\n",
    "- Coursera: Programming in Python\n",
    "    - Week 1"
   ]
  },
  {
   "attachments": {},
   "cell_type": "markdown",
   "metadata": {},
   "source": [
    "### May 6, 2023\n",
    "- Cousera: Programming in Python\n",
    "    - Week 1 - 3\n"
   ]
  },
  {
   "attachments": {},
   "cell_type": "markdown",
   "metadata": {},
   "source": [
    "### May 7, 2023\n",
    "- Cousera: Programming in Python\n",
    "    - Week 3 - 5\n"
   ]
  },
  {
   "attachments": {},
   "cell_type": "markdown",
   "metadata": {},
   "source": [
    "### May 8, 2023\n",
    "- Cousera: Database Clients\n",
    "    - Week 1"
   ]
  },
  {
   "attachments": {},
   "cell_type": "markdown",
   "metadata": {},
   "source": [
    "### May 9, 2023\n",
    "- Coursera: Database Clients\n",
    "    - Week 2"
   ]
  },
  {
   "attachments": {},
   "cell_type": "markdown",
   "metadata": {},
   "source": [
    "### May 10, 2023\n",
    "- Cousera: Database Clients\n",
    "    - Week 3\n",
    "- Microsoft Azure Virtual Training Day: Data fundamentals"
   ]
  },
  {
   "attachments": {},
   "cell_type": "markdown",
   "metadata": {},
   "source": [
    "### May 11, 2023\n",
    "- Microsoft Azure Virtual Traning Day: Data fundamentals\n",
    "- Microsoft Azure Data Fundamentals: Explore core data concepts\n",
    "- Microsoft Azure Data Fundamentals: Explore relational data in Azure\n",
    "- Cousera: Database Clients\n",
    "    - Week 3"
   ]
  },
  {
   "attachments": {},
   "cell_type": "markdown",
   "metadata": {},
   "source": [
    "May 12, 2023\n",
    "- Cousera: Database Clients\n",
    "    - Week 3"
   ]
  },
  {
   "attachments": {},
   "cell_type": "markdown",
   "metadata": {},
   "source": [
    "### May 13, 2023\n",
    "- Cousera: Database Clients\n",
    "    - Week 3 - 4\n",
    "- Cousera: Advanced Data Modeling\n",
    "    - Week 1"
   ]
  },
  {
   "attachments": {},
   "cell_type": "markdown",
   "metadata": {},
   "source": [
    "### May 14, 2023\n",
    "- Cousera: Advanced Data Modeling\n",
    "    - Week 1\n",
    "- DataTalksClub: MLOps Zoomcamp\n",
    "    - Module 1: 1 - 5"
   ]
  },
  {
   "attachments": {},
   "cell_type": "markdown",
   "metadata": {},
   "source": [
    "### May 15, 2023\n",
    "- DataTalksClub: MLOps Zoomcamp\n",
    "    - Module 1: setting up environment\n",
    "- Coursera: Advanced Data Modeling\n",
    "    - Week 2"
   ]
  },
  {
   "attachments": {},
   "cell_type": "markdown",
   "metadata": {},
   "source": [
    "### May 16, 2023\n",
    "- Azure Data Fundamentals Practice questions"
   ]
  },
  {
   "attachments": {},
   "cell_type": "markdown",
   "metadata": {},
   "source": []
  }
 ],
 "metadata": {
  "kernelspec": {
   "display_name": "Python 3.8.5 32-bit",
   "language": "python",
   "name": "python3"
  },
  "language_info": {
   "name": "python",
   "version": "3.8.5"
  },
  "orig_nbformat": 4,
  "vscode": {
   "interpreter": {
    "hash": "de8b87ba8f177fe4a436d1f53122835ba7d07d5ea65e6cba5be73644e558f70c"
   }
  }
 },
 "nbformat": 4,
 "nbformat_minor": 2
}
