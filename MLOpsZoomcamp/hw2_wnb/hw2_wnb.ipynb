{
 "cells": [
  {
   "attachments": {},
   "cell_type": "markdown",
   "metadata": {},
   "source": [
    "### Question 1"
   ]
  },
  {
   "cell_type": "code",
   "execution_count": 3,
   "metadata": {},
   "outputs": [
    {
     "name": "stdout",
     "output_type": "stream",
     "text": [
      "wandb, version 0.15.3\n"
     ]
    }
   ],
   "source": [
    "!wandb --version"
   ]
  },
  {
   "attachments": {},
   "cell_type": "markdown",
   "metadata": {},
   "source": [
    "### Question 2"
   ]
  },
  {
   "attachments": {},
   "cell_type": "markdown",
   "metadata": {},
   "source": [
    "!python .\\preprocess_data.py --wandb_project hw2-wandb --wandb_entity changhyeonlim --raw_data_path ..\\hw2_data\\ --dest_path ./output"
   ]
  },
  {
   "attachments": {},
   "cell_type": "markdown",
   "metadata": {},
   "source": [
    "dv.pkl size is 153.7 kB"
   ]
  },
  {
   "attachments": {},
   "cell_type": "markdown",
   "metadata": {},
   "source": [
    "### Question 3"
   ]
  },
  {
   "cell_type": "code",
   "execution_count": null,
   "metadata": {},
   "outputs": [],
   "source": [
    "rf = RandomForestRegressor(max_depth=max_depth, random_state=random_state)\n",
    "rf.fit(X_train, y_train)\n",
    "y_pred = rf.predict(X_val)\n",
    "\n",
    "mse = mean_squared_error(y_val, y_pred, squared=False)\n",
    "# TODO: Log `mse` to Weights & Biases under the key `\"MSE\"`\n",
    "wandb.log({\"MSE\": mse})\n",
    "with open(\"regressor.pkl\", \"wb\") as f:\n",
    "    pickle.dump(rf, f)\n",
    "\n",
    "# TODO: Log `regressor.pkl` as an artifact of type `model`\n",
    "artifact = wandb.Artifact('RegressorModel', type = 'model')\n",
    "artifact.add_file(\"regressor.pkl\")\n",
    "wandb.log_artifact(artifact)"
   ]
  },
  {
   "attachments": {},
   "cell_type": "markdown",
   "metadata": {},
   "source": [
    "Max depth input is not given, and the default is set to 10. "
   ]
  },
  {
   "attachments": {},
   "cell_type": "markdown",
   "metadata": {},
   "source": [
    "### Question 4"
   ]
  },
  {
   "cell_type": "code",
   "execution_count": null,
   "metadata": {},
   "outputs": [],
   "source": [
    "rf = RandomForestRegressor(\n",
    "    max_depth=config.max_depth, \n",
    "    n_estimators = config.n_estimators,\n",
    "    min_samples_split = config.min_samples_split, \n",
    "    min_samples_leaf= config.min_samples_leaf, \n",
    "    random_state=0)"
   ]
  },
  {
   "attachments": {},
   "cell_type": "markdown",
   "metadata": {},
   "source": [
    "Based on the result, min_samples_leaf has the highest parameter importance with a value of 0.138. "
   ]
  },
  {
   "attachments": {},
   "cell_type": "markdown",
   "metadata": {},
   "source": [
    "### Question 5"
   ]
  },
  {
   "attachments": {},
   "cell_type": "markdown",
   "metadata": {},
   "source": [
    "After registering the model, following information can be found on the main Model Registry UI page.\n",
    "- Versioning: Version 0, vu5rpifo-model:v0\n",
    "- Metadata\n",
    "    - Run Config\n",
    "        - max_depth: 20\n",
    "        - min_samples_leaf: 3\n",
    "        - min_samples_split: 9\n",
    "        - n_estimators: 23\n",
    "    - Run History at Log Step\n",
    "        - _runtime: 11.529\n",
    "        - _step: 0\n",
    "        - _timestamp: 1,686,023,713.654657\n",
    "        - MSE: 2.4479\n",
    "- Aliases: @final, @latest, @v0\n",
    "- Metric: Seen from the Metadata\n",
    "- Sourece run: confused-sweep-3"
   ]
  }
 ],
 "metadata": {
  "kernelspec": {
   "display_name": "Python 3",
   "language": "python",
   "name": "python3"
  },
  "language_info": {
   "codemirror_mode": {
    "name": "ipython",
    "version": 3
   },
   "file_extension": ".py",
   "mimetype": "text/x-python",
   "name": "python",
   "nbconvert_exporter": "python",
   "pygments_lexer": "ipython3",
   "version": "3.10.11"
  },
  "orig_nbformat": 4
 },
 "nbformat": 4,
 "nbformat_minor": 2
}
