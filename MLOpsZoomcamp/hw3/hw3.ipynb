{
 "cells": [
  {
   "attachments": {},
   "cell_type": "markdown",
   "metadata": {},
   "source": [
    "### Homework 3"
   ]
  },
  {
   "attachments": {},
   "cell_type": "markdown",
   "metadata": {},
   "source": [
    "### Question 1"
   ]
  },
  {
   "attachments": {},
   "cell_type": "markdown",
   "metadata": {},
   "source": [
    "Referring to https://docs.prefect.io/2.10.13/concepts/flows/#flow-settings, for flow descriptor, you can put retries, retry_delay_seconds, and name.\n",
    "\n",
    "@task(retries=3, retry_delay_seconds=2, name=\"Read taxi data\")"
   ]
  },
  {
   "attachments": {},
   "cell_type": "markdown",
   "metadata": {},
   "source": [
    "### Question 2"
   ]
  },
  {
   "attachments": {},
   "cell_type": "markdown",
   "metadata": {},
   "source": [
    "Cront format: minute - hour - day(month) - month - day(week)\n",
    "\n",
    "9AM of 3rd day of every month = 093**"
   ]
  },
  {
   "attachments": {},
   "cell_type": "markdown",
   "metadata": {},
   "source": [
    "### Question 3"
   ]
  },
  {
   "attachments": {},
   "cell_type": "markdown",
   "metadata": {},
   "source": [
    "After deployment, the output reads\n",
    "\n",
    "```\n",
    "23:48:13.993 | INFO    | Task run 'train_best_model-0' - [99]   validation-rmse:5.20087alidation-rmse:5.19931                                           alidation-rmse:5.20016\n",
    "```"
   ]
  },
  {
   "attachments": {},
   "cell_type": "markdown",
   "metadata": {},
   "source": [
    "### Question 4"
   ]
  },
  {
   "attachments": {},
   "cell_type": "markdown",
   "metadata": {},
   "source": [
    "After deployment, the output reads\n",
    "\n",
    "```23:55:18.314 | INFO    | Task run 'train_best_model-0' - [99]   validation-rmse:5.37450```\n"
   ]
  },
  {
   "attachments": {},
   "cell_type": "markdown",
   "metadata": {},
   "source": [
    "### Question 5"
   ]
  },
  {
   "attachments": {},
   "cell_type": "markdown",
   "metadata": {},
   "source": [
    "using prefect_email, the pre-built task function is ```email_send_message```"
   ]
  },
  {
   "cell_type": "code",
   "execution_count": null,
   "metadata": {
    "vscode": {
     "languageId": "plaintext"
    }
   },
   "outputs": [],
   "source": [
    "from prefect_email import EmailServerCredentials, email_send_message\n",
    "from prefect import flow\n",
    "\n",
    "credentials = EmailServerCredentials(\n",
    "    username=\"changhyeonlim@gmail.com\",\n",
    "    password=\"GMAIL_PASSWORD\",  # must be an app password\n",
    ")\n",
    "credentials.save(\"EMAIL_BLOCK\")\n",
    "\n",
    "EmailServerCredentials.load(\"EMAIL_BLOCK\")"
   ]
  },
  {
   "cell_type": "code",
   "execution_count": null,
   "metadata": {
    "vscode": {
     "languageId": "plaintext"
    }
   },
   "outputs": [],
   "source": [
    "@flow\n",
    "def example_email_send_message_flow(email_addresses: List[str]):\n",
    "    email_server_credentials = EmailServerCredentials.load(\"EMAIL_BLOCK\")\n",
    "    for email_address in email_addresses:\n",
    "        subject = email_send_message.with_options(name=f\"email {email_address}\").submit(\n",
    "            email_server_credentials=email_server_credentials,\n",
    "            subject=\"Example Flow Notification using Gmail\",\n",
    "            msg=\"This proves email_send_message works!\",\n",
    "            email_to=email_address,\n",
    "        )\n",
    "\n",
    "example_email_send_message_flow([\"changhyeonlim@gmail.com\"])"
   ]
  },
  {
   "attachments": {},
   "cell_type": "markdown",
   "metadata": {},
   "source": [
    "### Question 6"
   ]
  },
  {
   "attachments": {},
   "cell_type": "markdown",
   "metadata": {},
   "source": [
    "1 step - Trigger, 2nd - Actions, 3rd - Details\n",
    "\n",
    "2nd step action gives you actions to create emails\n"
   ]
  }
 ],
 "metadata": {
  "language_info": {
   "name": "python"
  },
  "orig_nbformat": 4
 },
 "nbformat": 4,
 "nbformat_minor": 2
}
